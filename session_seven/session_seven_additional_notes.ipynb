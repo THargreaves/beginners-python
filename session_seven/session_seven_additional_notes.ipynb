{
 "cells": [
  {
   "cell_type": "markdown",
   "metadata": {},
   "source": [
    "This notebook will breakdown the example shown at the end of session seven. We start by importing two additional functions."
   ]
  },
  {
   "cell_type": "code",
   "execution_count": 1,
   "metadata": {},
   "outputs": [],
   "source": [
    "from urllib.request import urlopen\n",
    "from json import load"
   ]
  },
  {
   "cell_type": "markdown",
   "metadata": {},
   "source": [
    "We can then define a function to extra the title and lead author for any ISBN. We will break down how this works after."
   ]
  },
  {
   "cell_type": "code",
   "execution_count": 4,
   "metadata": {},
   "outputs": [],
   "source": [
    "def get_info_from_isbn(isbn):\n",
    "    url = ('https://www.googleapis.com/' +\n",
    "           'books/v1/volumes?q=isbn:' + isbn)\n",
    "    response = urlopen(url)\n",
    "    all_info = load(response)\n",
    "    book_info = all_info['items'][0]['volumeInfo']\n",
    "    return book_info['title'], book_info['authors'][0]"
   ]
  },
  {
   "cell_type": "markdown",
   "metadata": {},
   "source": [
    "We can use this function as so."
   ]
  },
  {
   "cell_type": "code",
   "execution_count": 5,
   "metadata": {},
   "outputs": [
    {
     "name": "stdout",
     "output_type": "stream",
     "text": [
      "Python Data Science Handbook was written by Jacob T. Vanderplas\n",
      "R for Data Science was written by Garrett Grolemund\n",
      "Data Science with Julia was written by Paul D. McNicholas\n"
     ]
    }
   ],
   "source": [
    "isbns = ['9781491912058', '1491910399', '1138499986']\n",
    "for isbn in isbns:\n",
    "    title, author = get_info_from_isbn(isbn)\n",
    "    print(title, \"was written by\", author)"
   ]
  },
  {
   "cell_type": "markdown",
   "metadata": {},
   "source": [
    "So how does this work? It's first worth noting that we can use the API manually, without Python. Visit the following link, for example."
   ]
  },
  {
   "cell_type": "markdown",
   "metadata": {},
   "source": [
    "[https://www.googleapis.com/books/v1/volumes?q=isbn:9781491912058](https://www.googleapis.com/books/v1/volumes?q=isbn:9781491912058)"
   ]
  },
  {
   "cell_type": "markdown",
   "metadata": {},
   "source": [
    "This is a JSON file, which you will notice looks remarkably similar to a dictionary. We can load this into a Python dictionary using the following commands."
   ]
  },
  {
   "cell_type": "code",
   "execution_count": 6,
   "metadata": {},
   "outputs": [],
   "source": [
    "response = urlopen('https://www.googleapis.com/books/v1/volumes?q=isbn:9781491912058')\n",
    "all_info = load(response)"
   ]
  },
  {
   "cell_type": "code",
   "execution_count": 9,
   "metadata": {},
   "outputs": [
    {
     "data": {
      "text/plain": [
       "{'kind': 'books#volumes',\n",
       " 'totalItems': 1,\n",
       " 'items': [{'kind': 'books#volume',\n",
       "   'id': 'yijjwAEACAAJ',\n",
       "   'etag': 'szI9j43M8cY',\n",
       "   'selfLink': 'https://www.googleapis.com/books/v1/volumes/yijjwAEACAAJ',\n",
       "   'volumeInfo': {'title': 'Python Data Science Handbook',\n",
       "    'subtitle': 'Essential Tools for Working with Data',\n",
       "    'authors': ['Jacob T. Vanderplas', 'Jake VanderPlas'],\n",
       "    'publisher': \"O'Reilly Media\",\n",
       "    'publishedDate': '2016',\n",
       "    'description': \"For many researchers, Python is a first-class tool mainly because of its libraries for storing, manipulating, and gaining insight from data. Several resources exist for individual pieces of this data science stack, but only with the Python Data Science Handbook do you get them all--IPython, NumPy, Pandas, Matplotlib, Scikit-Learn, and other related tools. Working scientists and data crunchers familiar with reading and writing Python code will find this comprehensive desk reference ideal for tackling day-to-day issues: manipulating, transforming, and cleaning data; visualizing different types of data; and using data to build statistical or machine learning models. Quite simply, this is the must-have reference for scientific computing in Python. With this handbook, you'll learn how to use: IPython and Jupyter: provide computational environments for data scientists using Python NumPy: includes the ndarray for efficient storage and manipulation of dense data arrays in Python Pandas: features the DataFrame for efficient storage and manipulation of labeled/columnar data in Python Matplotlib: includes capabilities for a flexible range of data visualizations in Python Scikit-Learn: for efficient and clean Python implementations of the most important and established machine learning algorithms\",\n",
       "    'industryIdentifiers': [{'type': 'ISBN_10', 'identifier': '1491912057'},\n",
       "     {'type': 'ISBN_13', 'identifier': '9781491912058'}],\n",
       "    'readingModes': {'text': False, 'image': False},\n",
       "    'pageCount': 529,\n",
       "    'printType': 'BOOK',\n",
       "    'categories': ['Computers'],\n",
       "    'averageRating': 5,\n",
       "    'ratingsCount': 1,\n",
       "    'maturityRating': 'NOT_MATURE',\n",
       "    'allowAnonLogging': False,\n",
       "    'contentVersion': 'preview-1.0.0',\n",
       "    'panelizationSummary': {'containsEpubBubbles': False,\n",
       "     'containsImageBubbles': False},\n",
       "    'imageLinks': {'smallThumbnail': 'http://books.google.com/books/content?id=yijjwAEACAAJ&printsec=frontcover&img=1&zoom=5&source=gbs_api',\n",
       "     'thumbnail': 'http://books.google.com/books/content?id=yijjwAEACAAJ&printsec=frontcover&img=1&zoom=1&source=gbs_api'},\n",
       "    'language': 'en',\n",
       "    'previewLink': 'http://books.google.co.uk/books?id=yijjwAEACAAJ&dq=isbn:9781491912058&hl=&cd=1&source=gbs_api',\n",
       "    'infoLink': 'http://books.google.co.uk/books?id=yijjwAEACAAJ&dq=isbn:9781491912058&hl=&source=gbs_api',\n",
       "    'canonicalVolumeLink': 'https://books.google.com/books/about/Python_Data_Science_Handbook.html?hl=&id=yijjwAEACAAJ'},\n",
       "   'saleInfo': {'country': 'GB',\n",
       "    'saleability': 'NOT_FOR_SALE',\n",
       "    'isEbook': False},\n",
       "   'accessInfo': {'country': 'GB',\n",
       "    'viewability': 'NO_PAGES',\n",
       "    'embeddable': False,\n",
       "    'publicDomain': False,\n",
       "    'textToSpeechPermission': 'ALLOWED',\n",
       "    'epub': {'isAvailable': False},\n",
       "    'pdf': {'isAvailable': False},\n",
       "    'webReaderLink': 'http://play.google.com/books/reader?id=yijjwAEACAAJ&hl=&printsec=frontcover&source=gbs_api',\n",
       "    'accessViewStatus': 'NONE',\n",
       "    'quoteSharingAllowed': False},\n",
       "   'searchInfo': {'textSnippet': 'With this handbook, you&#39;ll learn how to use: IPython and Jupyter: provide computational environments for data scientists using Python NumPy: includes the ndarray for efficient storage and manipulation of dense data arrays in Python Pandas: ...'}}]}"
      ]
     },
     "execution_count": 9,
     "metadata": {},
     "output_type": "execute_result"
    }
   ],
   "source": [
    "all_info"
   ]
  },
  {
   "cell_type": "markdown",
   "metadata": {},
   "source": [
    "After a bit of experimenting, we notice that the book infomation is stored in `all_info['items'][0]['volumeInfo']`. If a book had a second volume, we could access this by replacing `0` with `1` etc."
   ]
  },
  {
   "cell_type": "code",
   "execution_count": 10,
   "metadata": {},
   "outputs": [],
   "source": [
    "book_info = all_info['items'][0]['volumeInfo']"
   ]
  },
  {
   "cell_type": "code",
   "execution_count": 11,
   "metadata": {},
   "outputs": [
    {
     "data": {
      "text/plain": [
       "{'title': 'Python Data Science Handbook',\n",
       " 'subtitle': 'Essential Tools for Working with Data',\n",
       " 'authors': ['Jacob T. Vanderplas', 'Jake VanderPlas'],\n",
       " 'publisher': \"O'Reilly Media\",\n",
       " 'publishedDate': '2016',\n",
       " 'description': \"For many researchers, Python is a first-class tool mainly because of its libraries for storing, manipulating, and gaining insight from data. Several resources exist for individual pieces of this data science stack, but only with the Python Data Science Handbook do you get them all--IPython, NumPy, Pandas, Matplotlib, Scikit-Learn, and other related tools. Working scientists and data crunchers familiar with reading and writing Python code will find this comprehensive desk reference ideal for tackling day-to-day issues: manipulating, transforming, and cleaning data; visualizing different types of data; and using data to build statistical or machine learning models. Quite simply, this is the must-have reference for scientific computing in Python. With this handbook, you'll learn how to use: IPython and Jupyter: provide computational environments for data scientists using Python NumPy: includes the ndarray for efficient storage and manipulation of dense data arrays in Python Pandas: features the DataFrame for efficient storage and manipulation of labeled/columnar data in Python Matplotlib: includes capabilities for a flexible range of data visualizations in Python Scikit-Learn: for efficient and clean Python implementations of the most important and established machine learning algorithms\",\n",
       " 'industryIdentifiers': [{'type': 'ISBN_10', 'identifier': '1491912057'},\n",
       "  {'type': 'ISBN_13', 'identifier': '9781491912058'}],\n",
       " 'readingModes': {'text': False, 'image': False},\n",
       " 'pageCount': 529,\n",
       " 'printType': 'BOOK',\n",
       " 'categories': ['Computers'],\n",
       " 'averageRating': 5,\n",
       " 'ratingsCount': 1,\n",
       " 'maturityRating': 'NOT_MATURE',\n",
       " 'allowAnonLogging': False,\n",
       " 'contentVersion': 'preview-1.0.0',\n",
       " 'panelizationSummary': {'containsEpubBubbles': False,\n",
       "  'containsImageBubbles': False},\n",
       " 'imageLinks': {'smallThumbnail': 'http://books.google.com/books/content?id=yijjwAEACAAJ&printsec=frontcover&img=1&zoom=5&source=gbs_api',\n",
       "  'thumbnail': 'http://books.google.com/books/content?id=yijjwAEACAAJ&printsec=frontcover&img=1&zoom=1&source=gbs_api'},\n",
       " 'language': 'en',\n",
       " 'previewLink': 'http://books.google.co.uk/books?id=yijjwAEACAAJ&dq=isbn:9781491912058&hl=&cd=1&source=gbs_api',\n",
       " 'infoLink': 'http://books.google.co.uk/books?id=yijjwAEACAAJ&dq=isbn:9781491912058&hl=&source=gbs_api',\n",
       " 'canonicalVolumeLink': 'https://books.google.com/books/about/Python_Data_Science_Handbook.html?hl=&id=yijjwAEACAAJ'}"
      ]
     },
     "execution_count": 11,
     "metadata": {},
     "output_type": "execute_result"
    }
   ],
   "source": [
    "book_info"
   ]
  },
  {
   "cell_type": "markdown",
   "metadata": {},
   "source": [
    "We can look at the keys by using the `.keys()` method."
   ]
  },
  {
   "cell_type": "code",
   "execution_count": 12,
   "metadata": {},
   "outputs": [
    {
     "name": "stdout",
     "output_type": "stream",
     "text": [
      "dict_keys(['title', 'subtitle', 'authors', 'publisher', 'publishedDate', 'description', 'industryIdentifiers', 'readingModes', 'pageCount', 'printType', 'categories', 'averageRating', 'ratingsCount', 'maturityRating', 'allowAnonLogging', 'contentVersion', 'panelizationSummary', 'imageLinks', 'language', 'previewLink', 'infoLink', 'canonicalVolumeLink'])\n"
     ]
    }
   ],
   "source": [
    "print(book_info.keys())"
   ]
  },
  {
   "cell_type": "markdown",
   "metadata": {},
   "source": [
    "Finally, we can use this to extract details."
   ]
  },
  {
   "cell_type": "code",
   "execution_count": 18,
   "metadata": {},
   "outputs": [
    {
     "name": "stdout",
     "output_type": "stream",
     "text": [
      "Authors: ['Jacob T. Vanderplas', 'Jake VanderPlas']\n",
      "Page Count: 529\n",
      "Rating: ★★★★★\n"
     ]
    }
   ],
   "source": [
    "print(\"Authors:\", book_info['authors'])\n",
    "print(\"Page Count:\", book_info['pageCount'])\n",
    "\n",
    "# Number of stars\n",
    "rating = round(book_info['averageRating'])\n",
    "print(\"Rating:\", '★' * rating + '☆' * (5 - rating))"
   ]
  }
 ],
 "metadata": {
  "kernelspec": {
   "display_name": "Python 3",
   "language": "python",
   "name": "python3"
  },
  "language_info": {
   "codemirror_mode": {
    "name": "ipython",
    "version": 3
   },
   "file_extension": ".py",
   "mimetype": "text/x-python",
   "name": "python",
   "nbconvert_exporter": "python",
   "pygments_lexer": "ipython3",
   "version": "3.7.3"
  }
 },
 "nbformat": 4,
 "nbformat_minor": 2
}
